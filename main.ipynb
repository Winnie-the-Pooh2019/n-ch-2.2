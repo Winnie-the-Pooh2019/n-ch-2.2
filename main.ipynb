{
 "cells": [
  {
   "cell_type": "code",
   "id": "initial_id",
   "metadata": {
    "collapsed": true,
    "ExecuteTime": {
     "end_time": "2025-05-05T09:26:55.475023Z",
     "start_time": "2025-05-05T09:26:55.472066Z"
    }
   },
   "source": [
    "import numpy as np\n",
    "import sympy as sp\n",
    "import matplotlib.pyplot as plt\n",
    "import random as rnd"
   ],
   "outputs": [],
   "execution_count": 9
  },
  {
   "metadata": {
    "ExecuteTime": {
     "end_time": "2025-05-05T09:13:54.061839Z",
     "start_time": "2025-05-05T09:13:54.055056Z"
    }
   },
   "cell_type": "code",
   "source": [
    "def draw_plot(funcs, labels, interval, points=[]):\n",
    "    x = np.linspace(interval[0], interval[1], 1000)\n",
    "\n",
    "    Y = [f(x) for f in funcs]\n",
    "\n",
    "    plt.figure(figsize=(12, 10))\n",
    "    plt.xlabel('x')\n",
    "    plt.ylabel('y')\n",
    "    plt.title('График функции')\n",
    "    plt.axhline(0, color='black', linewidth=0.8)\n",
    "    plt.axvline(0, color='black', linewidth=0.8)\n",
    "\n",
    "    for idx, y in enumerate(Y):\n",
    "        plt.plot(x, y, label=labels[idx])\n",
    "\n",
    "    for f in funcs:\n",
    "        points_y = [f(p) for p in points]\n",
    "        plt.scatter(points, points_y, c='red', s=100, marker='x')\n",
    "\n",
    "    delta = (interval[1] - interval[0]) * 0.02\n",
    "    plt.legend()\n",
    "    plt.xlim([interval[0] - delta, interval[1] + delta])\n",
    "    plt.grid(True)\n",
    "    plt.show()"
   ],
   "id": "939117aab86a2c6",
   "outputs": [],
   "execution_count": 2
  },
  {
   "metadata": {
    "ExecuteTime": {
     "end_time": "2025-05-05T09:20:19.809334Z",
     "start_time": "2025-05-05T09:20:19.806509Z"
    }
   },
   "cell_type": "code",
   "source": [
    "def map_args(Xs, xk):\n",
    "    return dict(zip(Xs, xk)) # xs1 -> x0, где x0 это число"
   ],
   "id": "9066ba3a14d75db4",
   "outputs": [],
   "execution_count": 7
  },
  {
   "metadata": {},
   "cell_type": "markdown",
   "source": "### Уравнения",
   "id": "938f01c0c9e9ccf1"
  },
  {
   "metadata": {
    "ExecuteTime": {
     "end_time": "2025-05-05T09:13:56.713203Z",
     "start_time": "2025-05-05T09:13:56.668460Z"
    }
   },
   "cell_type": "code",
   "outputs": [
    {
     "name": "stdout",
     "output_type": "stream",
     "text": [
      "['-x**3 + y**2 + 1 = 0', '-x*y**3 + y + 4 = 0']\n"
     ]
    }
   ],
   "execution_count": 3,
   "source": [
    "Xs = [\n",
    "    sp.Symbol('x'),\n",
    "    sp.Symbol('y')\n",
    "]\n",
    "\n",
    "# F1(x, y) = 0\n",
    "# F2(x, y) = 0\n",
    "Fs = [\n",
    "    Xs[1] ** 2 - Xs[0] ** 3 + 1, # y^2 - x^3 +1\n",
    "    Xs[1] - Xs[0] * Xs[1] ** 3 + 4\n",
    "]\n",
    "\n",
    "equations = [\n",
    "    f'{Fs[0]} = 0',\n",
    "    f'{Fs[1]} = 0',\n",
    "]\n",
    "\n",
    "print(equations)"
   ],
   "id": "d856b6e50f79effb"
  },
  {
   "metadata": {},
   "cell_type": "code",
   "outputs": [],
   "execution_count": null,
   "source": "",
   "id": "681ab0bcffb33869"
  },
  {
   "metadata": {
    "ExecuteTime": {
     "end_time": "2025-05-05T09:35:12.677918Z",
     "start_time": "2025-05-05T09:35:12.639517Z"
    }
   },
   "cell_type": "code",
   "source": [
    "fs_solutions = []\n",
    "\n",
    "for fs in Fs:\n",
    "    solution = list(sp.solve(fs, Xs[1]))\n",
    "\n",
    "    print(f'solution {solution}')\n",
    "\n",
    "    fs_solutions.append(solution)\n",
    "\n",
    "print(f'\\n{fs_solutions}')"
   ],
   "id": "28b13ccedda92f54",
   "outputs": [
    {
     "name": "stdout",
     "output_type": "stream",
     "text": [
      "solution [-sqrt(x**3 - 1), sqrt(x**3 - 1)]\n",
      "solution [-(-1/2 - sqrt(3)*I/2)*(sqrt(11664/x**2 - 108/x**3)/2 - 54/x)**(1/3)/3 - 1/(x*(-1/2 - sqrt(3)*I/2)*(sqrt(11664/x**2 - 108/x**3)/2 - 54/x)**(1/3)), -(-1/2 + sqrt(3)*I/2)*(sqrt(11664/x**2 - 108/x**3)/2 - 54/x)**(1/3)/3 - 1/(x*(-1/2 + sqrt(3)*I/2)*(sqrt(11664/x**2 - 108/x**3)/2 - 54/x)**(1/3)), -(sqrt(11664/x**2 - 108/x**3)/2 - 54/x)**(1/3)/3 - 1/(x*(sqrt(11664/x**2 - 108/x**3)/2 - 54/x)**(1/3))]\n",
      "\n",
      "[[-sqrt(x**3 - 1), sqrt(x**3 - 1)], [-(-1/2 - sqrt(3)*I/2)*(sqrt(11664/x**2 - 108/x**3)/2 - 54/x)**(1/3)/3 - 1/(x*(-1/2 - sqrt(3)*I/2)*(sqrt(11664/x**2 - 108/x**3)/2 - 54/x)**(1/3)), -(-1/2 + sqrt(3)*I/2)*(sqrt(11664/x**2 - 108/x**3)/2 - 54/x)**(1/3)/3 - 1/(x*(-1/2 + sqrt(3)*I/2)*(sqrt(11664/x**2 - 108/x**3)/2 - 54/x)**(1/3)), -(sqrt(11664/x**2 - 108/x**3)/2 - 54/x)**(1/3)/3 - 1/(x*(sqrt(11664/x**2 - 108/x**3)/2 - 54/x)**(1/3))]]\n"
     ]
    }
   ],
   "execution_count": 13
  },
  {
   "metadata": {
    "ExecuteTime": {
     "end_time": "2025-05-05T09:35:16.286368Z",
     "start_time": "2025-05-05T09:35:16.224408Z"
    }
   },
   "cell_type": "code",
   "source": [
    "for i, sol_fs in enumerate(fs_solutions):\n",
    "    sol_f = list(map(lambda x: sp.lambdify(Xs[1:], x), sol_fs))\n",
    "    sol_l = list(map(lambda x: f'{x}', sol_fs))\n",
    "    draw_plot(sol_f, sol_l, [0, 2])"
   ],
   "id": "f096113dc29fcebf",
   "outputs": [
    {
     "ename": "TypeError",
     "evalue": "loop of ufunc does not support argument 0 of type Add which has no callable sqrt method",
     "output_type": "error",
     "traceback": [
      "\u001B[31m---------------------------------------------------------------------------\u001B[39m",
      "\u001B[31mAttributeError\u001B[39m                            Traceback (most recent call last)",
      "\u001B[31mAttributeError\u001B[39m: 'Add' object has no attribute 'sqrt'",
      "\nThe above exception was the direct cause of the following exception:\n",
      "\u001B[31mTypeError\u001B[39m                                 Traceback (most recent call last)",
      "\u001B[36mCell\u001B[39m\u001B[36m \u001B[39m\u001B[32mIn[14]\u001B[39m\u001B[32m, line 4\u001B[39m\n\u001B[32m      2\u001B[39m sol_f = \u001B[38;5;28mlist\u001B[39m(\u001B[38;5;28mmap\u001B[39m(\u001B[38;5;28;01mlambda\u001B[39;00m x: sp.lambdify(Xs[\u001B[32m1\u001B[39m:], x), sol_fs))\n\u001B[32m      3\u001B[39m sol_l = \u001B[38;5;28mlist\u001B[39m(\u001B[38;5;28mmap\u001B[39m(\u001B[38;5;28;01mlambda\u001B[39;00m x: \u001B[33mf\u001B[39m\u001B[33m'\u001B[39m\u001B[38;5;132;01m{\u001B[39;00mx\u001B[38;5;132;01m}\u001B[39;00m\u001B[33m'\u001B[39m, sol_fs))\n\u001B[32m----> \u001B[39m\u001B[32m4\u001B[39m \u001B[43mdraw_plot\u001B[49m\u001B[43m(\u001B[49m\u001B[43msol_f\u001B[49m\u001B[43m,\u001B[49m\u001B[43m \u001B[49m\u001B[43msol_l\u001B[49m\u001B[43m,\u001B[49m\u001B[43m \u001B[49m\u001B[43m[\u001B[49m\u001B[32;43m0\u001B[39;49m\u001B[43m,\u001B[49m\u001B[43m \u001B[49m\u001B[32;43m2\u001B[39;49m\u001B[43m]\u001B[49m\u001B[43m)\u001B[49m\n",
      "\u001B[36mCell\u001B[39m\u001B[36m \u001B[39m\u001B[32mIn[2]\u001B[39m\u001B[32m, line 4\u001B[39m, in \u001B[36mdraw_plot\u001B[39m\u001B[34m(funcs, labels, interval, points)\u001B[39m\n\u001B[32m      1\u001B[39m \u001B[38;5;28;01mdef\u001B[39;00m\u001B[38;5;250m \u001B[39m\u001B[34mdraw_plot\u001B[39m(funcs, labels, interval, points=[]):\n\u001B[32m      2\u001B[39m     x = np.linspace(interval[\u001B[32m0\u001B[39m], interval[\u001B[32m1\u001B[39m], \u001B[32m1000\u001B[39m)\n\u001B[32m----> \u001B[39m\u001B[32m4\u001B[39m     Y = [\u001B[43mf\u001B[49m\u001B[43m(\u001B[49m\u001B[43mx\u001B[49m\u001B[43m)\u001B[49m \u001B[38;5;28;01mfor\u001B[39;00m f \u001B[38;5;129;01min\u001B[39;00m funcs]\n\u001B[32m      6\u001B[39m     plt.figure(figsize=(\u001B[32m12\u001B[39m, \u001B[32m10\u001B[39m))\n\u001B[32m      7\u001B[39m     plt.xlabel(\u001B[33m'\u001B[39m\u001B[33mx\u001B[39m\u001B[33m'\u001B[39m)\n",
      "\u001B[36mFile \u001B[39m\u001B[32m<lambdifygenerated-10>:2\u001B[39m, in \u001B[36m_lambdifygenerated\u001B[39m\u001B[34m(y)\u001B[39m\n\u001B[32m      1\u001B[39m \u001B[38;5;28;01mdef\u001B[39;00m\u001B[38;5;250m \u001B[39m\u001B[34m_lambdifygenerated\u001B[39m(y):\n\u001B[32m----> \u001B[39m\u001B[32m2\u001B[39m     \u001B[38;5;28;01mreturn\u001B[39;00m -\u001B[43msqrt\u001B[49m\u001B[43m(\u001B[49m\u001B[43mx\u001B[49m\u001B[43m*\u001B[49m\u001B[43m*\u001B[49m\u001B[32;43m3\u001B[39;49m\u001B[43m \u001B[49m\u001B[43m-\u001B[49m\u001B[43m \u001B[49m\u001B[32;43m1\u001B[39;49m\u001B[43m)\u001B[49m\n",
      "\u001B[31mTypeError\u001B[39m: loop of ufunc does not support argument 0 of type Add which has no callable sqrt method"
     ]
    }
   ],
   "execution_count": 14
  },
  {
   "metadata": {},
   "cell_type": "markdown",
   "source": "### Записываем якобиан",
   "id": "cf9b67bb211380f0"
  },
  {
   "metadata": {
    "ExecuteTime": {
     "end_time": "2025-05-02T15:17:00.248468Z",
     "start_time": "2025-05-02T15:17:00.244371Z"
    }
   },
   "cell_type": "code",
   "source": [
    "Jaks = []\n",
    "\n",
    "for fs in Fs:\n",
    "    dfs = []\n",
    "    for xs in Xs:\n",
    "        dfs.append(fs.diff(xs, 1))\n",
    "\n",
    "    Jaks.append(dfs)\n"
   ],
   "id": "d397f674ba750157",
   "outputs": [],
   "execution_count": 129
  },
  {
   "metadata": {
    "ExecuteTime": {
     "end_time": "2025-05-02T15:17:01.382390Z",
     "start_time": "2025-05-02T15:17:01.378762Z"
    }
   },
   "cell_type": "code",
   "source": "print(Jaks)",
   "id": "fc79b7aa8fc835d8",
   "outputs": [
    {
     "name": "stdout",
     "output_type": "stream",
     "text": [
      "[[-3*x**2, 2*y], [-y**3, -3*x*y**2 + 1]]\n"
     ]
    }
   ],
   "execution_count": 130
  },
  {
   "metadata": {},
   "cell_type": "markdown",
   "source": "Функция для расчета якобиана в xk",
   "id": "e07d67ea1916e37a"
  },
  {
   "metadata": {
    "ExecuteTime": {
     "end_time": "2025-05-02T15:02:39.681979Z",
     "start_time": "2025-05-02T15:02:39.678285Z"
    }
   },
   "cell_type": "code",
   "source": [
    "def eval_func(F_matrix, xk):\n",
    "    vals = []\n",
    "    arg = map_args(Xs, xk)\n",
    "    for F_row in F_matrix:\n",
    "        v = []\n",
    "        for f in F_row:\n",
    "            v.append(f.subs(arg))\n",
    "\n",
    "        vals.append(v)\n",
    "\n",
    "    result = np.array(vals).astype(float)\n",
    "    return result if len(F_matrix) > 1 else result[0]"
   ],
   "id": "ac28a6649343593c",
   "outputs": [],
   "execution_count": 112
  },
  {
   "metadata": {
    "ExecuteTime": {
     "end_time": "2025-05-02T15:02:40.702922Z",
     "start_time": "2025-05-02T15:02:40.698924Z"
    }
   },
   "cell_type": "code",
   "source": [
    "J = eval_func(Jaks, [1, 2])\n",
    "print(J)"
   ],
   "id": "2e4c15a7dae406ae",
   "outputs": [
    {
     "name": "stdout",
     "output_type": "stream",
     "text": [
      "[[ -3.   4.]\n",
      " [ -8. -11.]]\n"
     ]
    }
   ],
   "execution_count": 113
  },
  {
   "metadata": {
    "ExecuteTime": {
     "end_time": "2025-05-02T15:02:41.774479Z",
     "start_time": "2025-05-02T15:02:41.770137Z"
    }
   },
   "cell_type": "code",
   "source": [
    "v = eval_func([Fs], [1, 2])\n",
    "print(v)"
   ],
   "id": "58d8e743260252bd",
   "outputs": [
    {
     "name": "stdout",
     "output_type": "stream",
     "text": [
      "[ 4. -2.]\n"
     ]
    }
   ],
   "execution_count": 114
  },
  {
   "metadata": {
    "ExecuteTime": {
     "end_time": "2025-05-02T15:02:42.988081Z",
     "start_time": "2025-05-02T15:02:42.984422Z"
    }
   },
   "cell_type": "code",
   "source": [
    "print(J.shape)\n",
    "print(v.shape)"
   ],
   "id": "1a851a43bc697895",
   "outputs": [
    {
     "name": "stdout",
     "output_type": "stream",
     "text": [
      "(2, 2)\n",
      "(2,)\n"
     ]
    }
   ],
   "execution_count": 115
  },
  {
   "metadata": {
    "ExecuteTime": {
     "end_time": "2025-05-02T15:02:44.030756Z",
     "start_time": "2025-05-02T15:02:44.026755Z"
    }
   },
   "cell_type": "code",
   "source": [
    "z = np.linalg.solve(J, v)\n",
    "print(z)"
   ],
   "id": "bbc456d39193c10c",
   "outputs": [
    {
     "name": "stdout",
     "output_type": "stream",
     "text": [
      "[-0.55384615  0.58461538]\n"
     ]
    }
   ],
   "execution_count": 116
  },
  {
   "metadata": {
    "ExecuteTime": {
     "end_time": "2025-05-02T15:17:21.724962Z",
     "start_time": "2025-05-02T15:17:21.721573Z"
    }
   },
   "cell_type": "code",
   "source": [
    "def newton(Fs, xk0, iters=1000, e=1e-3):\n",
    "    xkn = xk0\n",
    "    for k in range(iters):\n",
    "        J = eval_func(Jaks, xkn)\n",
    "        v = eval_func([Fs], xkn)\n",
    "\n",
    "        z = np.linalg.solve(J, -v)\n",
    "        xkn1 = xkn + z\n",
    "\n",
    "        if np.linalg.norm(xkn1 - xkn) <= e or np.linalg.norm(z) <= e or np.linalg.norm(eval_func([Fs], xkn)) <= e:\n",
    "            return xkn1, k\n",
    "\n",
    "        xkn = xkn1\n",
    "\n",
    "    return xkn, iters"
   ],
   "id": "c92ec8316a3a2b7b",
   "outputs": [],
   "execution_count": 131
  },
  {
   "metadata": {
    "ExecuteTime": {
     "end_time": "2025-05-02T15:17:22.930445Z",
     "start_time": "2025-05-02T15:17:22.906393Z"
    }
   },
   "cell_type": "code",
   "source": [
    "xk0 = [1, 1]\n",
    "\n",
    "root = newton(Fs, xk0)"
   ],
   "id": "a383521004e851f9",
   "outputs": [],
   "execution_count": 132
  },
  {
   "metadata": {
    "ExecuteTime": {
     "end_time": "2025-05-02T15:17:29.077622Z",
     "start_time": "2025-05-02T15:17:29.074482Z"
    }
   },
   "cell_type": "code",
   "source": "print(root)",
   "id": "3993d418a25475f7",
   "outputs": [
    {
     "name": "stdout",
     "output_type": "stream",
     "text": [
      "(array([1.50203905, 1.5455686 ]), 5)\n"
     ]
    }
   ],
   "execution_count": 133
  }
 ],
 "metadata": {
  "kernelspec": {
   "display_name": "Python 3",
   "language": "python",
   "name": "python3"
  },
  "language_info": {
   "codemirror_mode": {
    "name": "ipython",
    "version": 2
   },
   "file_extension": ".py",
   "mimetype": "text/x-python",
   "name": "python",
   "nbconvert_exporter": "python",
   "pygments_lexer": "ipython2",
   "version": "2.7.6"
  }
 },
 "nbformat": 4,
 "nbformat_minor": 5
}
