{
 "cells": [
  {
   "cell_type": "code",
   "id": "initial_id",
   "metadata": {
    "collapsed": true,
    "ExecuteTime": {
     "end_time": "2025-05-02T13:09:46.977624Z",
     "start_time": "2025-05-02T13:09:45.926831Z"
    }
   },
   "source": [
    "import numpy as np\n",
    "import sympy as sp\n",
    "import matplotlib.pyplot as plt"
   ],
   "outputs": [],
   "execution_count": 1
  },
  {
   "metadata": {
    "ExecuteTime": {
     "end_time": "2025-05-02T13:11:16.429695Z",
     "start_time": "2025-05-02T13:11:16.422849Z"
    }
   },
   "cell_type": "code",
   "source": [
    "def draw_plot(funcs, labels, interval, points=[]):\n",
    "    x = np.linspace(interval[0], interval[1], 1000)\n",
    "\n",
    "    Y = [f(x) for f in funcs]\n",
    "\n",
    "    plt.figure(figsize=(12, 10))\n",
    "    plt.xlabel('x')\n",
    "    plt.ylabel('y')\n",
    "    plt.title('График функции')\n",
    "    plt.axhline(0, color='black', linewidth=0.8)\n",
    "    plt.axvline(0, color='black', linewidth=0.8)\n",
    "\n",
    "    for idx, y in enumerate(Y):\n",
    "        plt.plot(x, y, label=labels[idx])\n",
    "\n",
    "    for f in funcs:\n",
    "        points_y = [f(p) for p in points]\n",
    "        plt.scatter(points, points_y, c='red', s=100, marker='x')\n",
    "\n",
    "    delta = (interval[1] - interval[0]) * 0.02\n",
    "    plt.legend()\n",
    "    plt.xlim([interval[0] - delta, interval[1] + delta])\n",
    "    plt.grid(True)\n",
    "    plt.show()"
   ],
   "id": "939117aab86a2c6",
   "outputs": [],
   "execution_count": 2
  },
  {
   "metadata": {},
   "cell_type": "markdown",
   "source": "### Уравнения",
   "id": "938f01c0c9e9ccf1"
  },
  {
   "metadata": {
    "ExecuteTime": {
     "end_time": "2025-05-02T13:42:11.980191Z",
     "start_time": "2025-05-02T13:42:11.974071Z"
    }
   },
   "cell_type": "code",
   "source": [
    "Xs = [\n",
    "    sp.Symbol('x'),\n",
    "    sp.Symbol('y')\n",
    "]\n",
    "\n",
    "Fs = [\n",
    "    Xs[1] ** 2 - Xs[0] ** 3 + 1,\n",
    "    Xs[1] - Xs[0] * Xs[1] ** 3 + 4\n",
    "]\n",
    "\n",
    "equations = [\n",
    "    f'{Fs[0]} = 0',\n",
    "    f'{Fs[1]} = 0',\n",
    "]\n",
    "\n",
    "print(equations)"
   ],
   "id": "d856b6e50f79effb",
   "outputs": [
    {
     "name": "stdout",
     "output_type": "stream",
     "text": [
      "['-x**3 + y**2 + 1 = 0', '-x*y**3 + y + 4 = 0']\n"
     ]
    }
   ],
   "execution_count": 9
  },
  {
   "metadata": {
    "ExecuteTime": {
     "end_time": "2025-05-02T14:16:28.866620Z",
     "start_time": "2025-05-02T14:16:28.864088Z"
    }
   },
   "cell_type": "code",
   "source": [
    "def map_args(Xs, xk):\n",
    "    return dict(zip(Xs, xk))"
   ],
   "id": "9066ba3a14d75db4",
   "outputs": [],
   "execution_count": 47
  },
  {
   "metadata": {},
   "cell_type": "markdown",
   "source": "### Записываем якобиан",
   "id": "cf9b67bb211380f0"
  },
  {
   "metadata": {
    "ExecuteTime": {
     "end_time": "2025-05-02T15:17:00.248468Z",
     "start_time": "2025-05-02T15:17:00.244371Z"
    }
   },
   "cell_type": "code",
   "source": [
    "Jaks = []\n",
    "\n",
    "for fs in Fs:\n",
    "    dfs = []\n",
    "    for xs in Xs:\n",
    "        dfs.append(fs.diff(xs, 1))\n",
    "\n",
    "    Jaks.append(dfs)\n"
   ],
   "id": "d397f674ba750157",
   "outputs": [],
   "execution_count": 129
  },
  {
   "metadata": {
    "ExecuteTime": {
     "end_time": "2025-05-02T15:17:01.382390Z",
     "start_time": "2025-05-02T15:17:01.378762Z"
    }
   },
   "cell_type": "code",
   "source": "print(Jaks)",
   "id": "fc79b7aa8fc835d8",
   "outputs": [
    {
     "name": "stdout",
     "output_type": "stream",
     "text": [
      "[[-3*x**2, 2*y], [-y**3, -3*x*y**2 + 1]]\n"
     ]
    }
   ],
   "execution_count": 130
  },
  {
   "metadata": {},
   "cell_type": "markdown",
   "source": "Функция для расчета якобиана в xk",
   "id": "e07d67ea1916e37a"
  },
  {
   "metadata": {
    "ExecuteTime": {
     "end_time": "2025-05-02T15:02:39.681979Z",
     "start_time": "2025-05-02T15:02:39.678285Z"
    }
   },
   "cell_type": "code",
   "source": [
    "def eval_func(F_matrix, xk):\n",
    "    vals = []\n",
    "    arg = map_args(Xs, xk)\n",
    "    for F_row in F_matrix:\n",
    "        v = []\n",
    "        for f in F_row:\n",
    "            v.append(f.subs(arg))\n",
    "\n",
    "        vals.append(v)\n",
    "\n",
    "    result = np.array(vals).astype(float)\n",
    "    return result if len(F_matrix) > 1 else result[0]"
   ],
   "id": "ac28a6649343593c",
   "outputs": [],
   "execution_count": 112
  },
  {
   "metadata": {
    "ExecuteTime": {
     "end_time": "2025-05-02T15:02:40.702922Z",
     "start_time": "2025-05-02T15:02:40.698924Z"
    }
   },
   "cell_type": "code",
   "source": [
    "J = eval_func(Jaks, [1, 2])\n",
    "print(J)"
   ],
   "id": "2e4c15a7dae406ae",
   "outputs": [
    {
     "name": "stdout",
     "output_type": "stream",
     "text": [
      "[[ -3.   4.]\n",
      " [ -8. -11.]]\n"
     ]
    }
   ],
   "execution_count": 113
  },
  {
   "metadata": {
    "ExecuteTime": {
     "end_time": "2025-05-02T15:02:41.774479Z",
     "start_time": "2025-05-02T15:02:41.770137Z"
    }
   },
   "cell_type": "code",
   "source": [
    "v = eval_func([Fs], [1, 2])\n",
    "print(v)"
   ],
   "id": "58d8e743260252bd",
   "outputs": [
    {
     "name": "stdout",
     "output_type": "stream",
     "text": [
      "[ 4. -2.]\n"
     ]
    }
   ],
   "execution_count": 114
  },
  {
   "metadata": {
    "ExecuteTime": {
     "end_time": "2025-05-02T15:02:42.988081Z",
     "start_time": "2025-05-02T15:02:42.984422Z"
    }
   },
   "cell_type": "code",
   "source": [
    "print(J.shape)\n",
    "print(v.shape)"
   ],
   "id": "1a851a43bc697895",
   "outputs": [
    {
     "name": "stdout",
     "output_type": "stream",
     "text": [
      "(2, 2)\n",
      "(2,)\n"
     ]
    }
   ],
   "execution_count": 115
  },
  {
   "metadata": {
    "ExecuteTime": {
     "end_time": "2025-05-02T15:02:44.030756Z",
     "start_time": "2025-05-02T15:02:44.026755Z"
    }
   },
   "cell_type": "code",
   "source": [
    "z = np.linalg.solve(J, v)\n",
    "print(z)"
   ],
   "id": "bbc456d39193c10c",
   "outputs": [
    {
     "name": "stdout",
     "output_type": "stream",
     "text": [
      "[-0.55384615  0.58461538]\n"
     ]
    }
   ],
   "execution_count": 116
  },
  {
   "metadata": {
    "ExecuteTime": {
     "end_time": "2025-05-02T15:17:21.724962Z",
     "start_time": "2025-05-02T15:17:21.721573Z"
    }
   },
   "cell_type": "code",
   "source": [
    "def newton(Fs, xk0, iters=1000, e=1e-3):\n",
    "    xkn = xk0\n",
    "    for i in range(iters):\n",
    "        J = eval_func(Jaks, xkn)\n",
    "        v = eval_func([Fs], xkn)\n",
    "\n",
    "        z = np.linalg.solve(J, -v)\n",
    "        xkn1 = xkn + z\n",
    "\n",
    "        if np.linalg.norm(xkn1 - xkn) <= e or np.linalg.norm(z) <= e or np.linalg.norm(eval_func([Fs], xkn)) <= e:\n",
    "            return xkn1, i\n",
    "\n",
    "        xkn = xkn1\n",
    "\n",
    "    return xkn, iters"
   ],
   "id": "c92ec8316a3a2b7b",
   "outputs": [],
   "execution_count": 131
  },
  {
   "metadata": {
    "ExecuteTime": {
     "end_time": "2025-05-02T15:17:22.930445Z",
     "start_time": "2025-05-02T15:17:22.906393Z"
    }
   },
   "cell_type": "code",
   "source": [
    "xk0 = [1, 1]\n",
    "\n",
    "root = newton(Fs, xk0)"
   ],
   "id": "a383521004e851f9",
   "outputs": [],
   "execution_count": 132
  },
  {
   "metadata": {
    "ExecuteTime": {
     "end_time": "2025-05-02T15:17:29.077622Z",
     "start_time": "2025-05-02T15:17:29.074482Z"
    }
   },
   "cell_type": "code",
   "source": "print(root)",
   "id": "3993d418a25475f7",
   "outputs": [
    {
     "name": "stdout",
     "output_type": "stream",
     "text": [
      "(array([1.50203905, 1.5455686 ]), 5)\n"
     ]
    }
   ],
   "execution_count": 133
  }
 ],
 "metadata": {
  "kernelspec": {
   "display_name": "Python 3",
   "language": "python",
   "name": "python3"
  },
  "language_info": {
   "codemirror_mode": {
    "name": "ipython",
    "version": 2
   },
   "file_extension": ".py",
   "mimetype": "text/x-python",
   "name": "python",
   "nbconvert_exporter": "python",
   "pygments_lexer": "ipython2",
   "version": "2.7.6"
  }
 },
 "nbformat": 4,
 "nbformat_minor": 5
}
